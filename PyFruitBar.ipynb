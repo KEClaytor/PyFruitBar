{
 "cells": [
  {
   "cell_type": "code",
   "execution_count": 9,
   "metadata": {
    "collapsed": true
   },
   "outputs": [],
   "source": [
    "import re"
   ]
  },
  {
   "cell_type": "markdown",
   "metadata": {},
   "source": [
    "This wonderful thread fixed 2+ hours of mucking around....\n",
    "\n",
    "http://stackoverflow.com/questions/375427/non-blocking-read-on-a-subprocess-pipe-in-python"
   ]
  },
  {
   "cell_type": "code",
   "execution_count": 10,
   "metadata": {
    "collapsed": false
   },
   "outputs": [],
   "source": [
    "import sys\n",
    "from subprocess import PIPE, Popen\n",
    "from threading  import Thread\n",
    "\n",
    "try:\n",
    "    from Queue import Queue, Empty\n",
    "except ImportError:\n",
    "    from queue import Queue, Empty  # python 3.x\n",
    "\n",
    "ON_POSIX = 'posix' in sys.builtin_module_names\n",
    "\n",
    "def enqueue_output(out, queue):\n",
    "    for line in iter(out.readline, b''):\n",
    "        queue.put(line)\n",
    "    out.close()\n",
    "\n",
    "pianobar = Popen(['pianobar'], stdin=PIPE, stdout=PIPE, bufsize=1, close_fds=ON_POSIX)\n",
    "q = Queue()\n",
    "t = Thread(target=enqueue_output, args=(pianobar.stdout, q))\n",
    "t.daemon = True # thread dies with the program\n",
    "t.start()\n",
    "\n",
    "# ... do other things here\n",
    "\n",
    "# read line without blocking\n",
    "#try:  line = q.get_nowait() # or q.get(timeout=.1)\n",
    "#except Empty:\n",
    "#    print('no output yet')\n",
    "#else: # got line\n",
    "#    # ... do something with line"
   ]
  },
  {
   "cell_type": "code",
   "execution_count": null,
   "metadata": {
    "collapsed": true
   },
   "outputs": [],
   "source": [
    "try:  line = q.get_nowait() # or q.get(timeout=.1)\n",
    "    except Empty:\n",
    "        print('Reached the end of current output')\n",
    "        "
   ]
  },
  {
   "cell_type": "code",
   "execution_count": 11,
   "metadata": {
    "collapsed": false
   },
   "outputs": [
    {
     "name": "stdout",
     "output_type": "stream",
     "text": [
      "10\n",
      "Cream Radio\n"
     ]
    }
   ],
   "source": [
    "test = r'\t10) q   Cream Radio'\n",
    "p = re.compile('(\\d{1,})\\)[\\sqS]{5}(.*)')\n",
    "m = p.search(test)\n",
    "(i, n) = m.groups()\n",
    "print(i)\n",
    "print(n)"
   ]
  },
  {
   "cell_type": "code",
   "execution_count": 12,
   "metadata": {
    "collapsed": false
   },
   "outputs": [
    {
     "name": "stdout",
     "output_type": "stream",
     "text": [
      "Welcome to pianobar (2013.09.15)! Press ? for a list of commands.\n",
      "\u001b[2K(i) Login... Ok.\n",
      "\u001b[2K(i) Get stations... Ok.\n",
      "\u001b[2K\t 0) q   Abba Radio\n",
      "found: Abba Radio 0\n",
      "\u001b[2K\t 1) q   Adele Radio\n",
      "found: Adele Radio 1\n",
      "\u001b[2K\t 2) q   Aerosmith Radio\n",
      "found: Aerosmith Radio 2\n",
      "\u001b[2K\t 3) q   Alternative Pop/Rock\n",
      "found: Alternative Pop/Rock 3\n",
      "\u001b[2K\t 4) q   Billy Joel Radio\n",
      "found: Billy Joel Radio 4\n",
      "\u001b[2K\t 5) q   Bond Radio\n",
      "found: Bond Radio 5\n",
      "\u001b[2K\t 6) q   Cake Radio\n",
      "found: Cake Radio 6\n",
      "\u001b[2K\t 7) q   Carry On Wayward Son Radio\n",
      "found: Carry On Wayward Son Radio 7\n",
      "\u001b[2K\t 8) q   Classic Rock\n",
      "found: Classic Rock 8\n",
      "\u001b[2K\t 9) q   Classical Guitar Radio\n",
      "found: Classical Guitar Radio 9\n",
      "\u001b[2K\t10) q   Cream Radio\n",
      "found: Cream Radio 10\n",
      "\u001b[2K\t11) q S Disney (Children's) Radio\n",
      "found: Disney (Children's) Radio 11\n",
      "\u001b[2K\t12) q S Easy Listening\n",
      "found: Easy Listening 12\n",
      "\u001b[2K\t13) q   Faunts Radio\n",
      "found: Faunts Radio 13\n",
      "\u001b[2K\t14) q   Firework Radio\n",
      "found: Firework Radio 14\n",
      "\u001b[2K\t15) q   Flogging Molly Radio\n",
      "found: Flogging Molly Radio 15\n",
      "\u001b[2K\t16) q S Folk / Country Rock\n",
      "found: Folk / Country Rock 16\n",
      "\u001b[2K\t17) q   Frou Frou Radio\n",
      "found: Frou Frou Radio 17\n",
      "\u001b[2K\t18) q   Galileo Radio\n",
      "found: Galileo Radio 18\n",
      "\u001b[2K\t19) q   George Frideric Handel Radio\n",
      "found: George Frideric Handel Radio 19\n",
      "\u001b[2K\t20) q   Grazing In The Grass Radio\n",
      "found: Grazing In The Grass Radio 20\n",
      "\u001b[2K\t21) q   Instrumental Folk\n",
      "found: Instrumental Folk 21\n",
      "\u001b[2K\t22) q   Irish/Celtic/Folk\n",
      "found: Irish/Celtic/Folk 22\n",
      "\u001b[2K\t23) q   James Blunt Radio\n",
      "found: James Blunt Radio 23\n",
      "\u001b[2K\t24) q   Johann Sebastian Bach Radio\n",
      "found: Johann Sebastian Bach Radio 24\n",
      "\u001b[2K\t25) q   Linkin Park Radio\n",
      "found: Linkin Park Radio 25\n",
      "\u001b[2K\t26)   S Metallica Live\n",
      "found: Metallica Live 26\n",
      "\u001b[2K\t27) q   Modest Mouse Radio\n",
      "found: Modest Mouse Radio 27\n",
      "\u001b[2K\t28) q   Muse Radio\n",
      "found: Muse Radio 28\n",
      "\u001b[2K\t29) q   Norah Jones Radio\n",
      "found: Norah Jones Radio 29\n",
      "\u001b[2K\t30) q   Of Monsters & Men Radio\n",
      "found: Of Monsters & Men Radio 30\n",
      "\u001b[2K\t31)   S Pandora Premieres\n",
      "found: Pandora Premieres 31\n",
      "\u001b[2K\t32) q   Pat Benatar Radio\n",
      "found: Pat Benatar Radio 32\n",
      "\u001b[2K\t33) q   Pop / Rock\n",
      "found: Pop / Rock 33\n",
      "\u001b[2K\t34)  Q  QuickMix\n",
      "\u001b[2K\t35) q   R.E.M. Radio\n",
      "found: R.E.M. Radio 35\n",
      "\u001b[2K\t36) q   Rise Radio\n",
      "found: Rise Radio 36\n",
      "\u001b[2K\t37) q   Rodrigo Y Gabriela Radio\n",
      "found: Rodrigo Y Gabriela Radio 37\n",
      "\u001b[2K\t38) q   Sara Bareilles Radio\n",
      "found: Sara Bareilles Radio 38\n",
      "\u001b[2K\t39) q   Sheryl Crow Radio\n",
      "found: Sheryl Crow Radio 39\n",
      "\u001b[2K\t40) q   Simon & Garfunkel Radio\n",
      "found: Simon & Garfunkel Radio 40\n",
      "\u001b[2K\t41) q   Sixpence None The Richer Radio\n",
      "found: Sixpence None The Richer Radio 41\n",
      "\u001b[2K\t42) q   Summer Of '69 Radio\n",
      "found: Summer Of '69 Radio 42\n",
      "\u001b[2K\t43) q   Take Five Radio\n",
      "found: Take Five Radio 43\n",
      "\u001b[2K\t44) q   The Final Countdown Radio\n",
      "found: The Final Countdown Radio 44\n",
      "\u001b[2K\t45) q   The Flaming Lips Radio\n",
      "found: The Flaming Lips Radio 45\n",
      "\u001b[2K\t46) q   The Killers Radio\n",
      "found: The Killers Radio 46\n",
      "\u001b[2K\t47) q   The Planets, Suite For Orchestra & Female Chorus, Op. 32, H. 12\n",
      "found: The Planets, Suite For Orchestra & Female Chorus, Op. 32, H. 12 47\n",
      "\u001b[2K\t48)     Thumbprint Radio\n",
      "found: Thumbprint Radio 48\n",
      "\u001b[2K\t49) q   What The Cowgirls Do Radio\n",
      "found: What The Cowgirls Do Radio 49\n",
      "Reached the end of current output\n",
      "['Abba Radio', 'Adele Radio', 'Aerosmith Radio', 'Alternative Pop/Rock', 'Billy Joel Radio', 'Bond Radio', 'Cake Radio', 'Carry On Wayward Son Radio', 'Classic Rock', 'Classical Guitar Radio', 'Cream Radio', \"Disney (Children's) Radio\", 'Easy Listening', 'Faunts Radio', 'Firework Radio', 'Flogging Molly Radio', 'Folk / Country Rock', 'Frou Frou Radio', 'Galileo Radio', 'George Frideric Handel Radio', 'Grazing In The Grass Radio', 'Instrumental Folk', 'Irish/Celtic/Folk', 'James Blunt Radio', 'Johann Sebastian Bach Radio', 'Linkin Park Radio', 'Metallica Live', 'Modest Mouse Radio', 'Muse Radio', 'Norah Jones Radio', 'Of Monsters & Men Radio', 'Pandora Premieres', 'Pat Benatar Radio', 'Pop / Rock', 'R.E.M. Radio', 'Rise Radio', 'Rodrigo Y Gabriela Radio', 'Sara Bareilles Radio', 'Sheryl Crow Radio', 'Simon & Garfunkel Radio', 'Sixpence None The Richer Radio', \"Summer Of '69 Radio\", 'Take Five Radio', 'The Final Countdown Radio', 'The Flaming Lips Radio', 'The Killers Radio', 'The Planets, Suite For Orchestra & Female Chorus, Op. 32, H. 12', 'Thumbprint Radio', 'What The Cowgirls Do Radio']\n"
     ]
    }
   ],
   "source": [
    "channels = []\n",
    "while True:\n",
    "    try:  line = q.get_nowait() # or q.get(timeout=.1)\n",
    "    except Empty:\n",
    "        print('Reached the end of current output')\n",
    "        break\n",
    "    else: # got line\n",
    "        test = line.rstrip().decode(\"utf-8\")\n",
    "        m = p.search(test)\n",
    "        print(test)\n",
    "        if m is not None:\n",
    "            (index, name) = p.search(test).groups()\n",
    "            print(\"found: {} {}\".format(name, index))\n",
    "            channels.append(name)\n",
    "            \n",
    "print(channels)"
   ]
  },
  {
   "cell_type": "code",
   "execution_count": 13,
   "metadata": {
    "collapsed": true
   },
   "outputs": [],
   "source": [
    "channel_index = 0\n",
    "level = 'menu'"
   ]
  },
  {
   "cell_type": "code",
   "execution_count": 20,
   "metadata": {
    "collapsed": true
   },
   "outputs": [],
   "source": [
    "def start_channel(channel_index):\n",
    "    cmd = bytearray('s'+repr(channel_index)+'\\n', 'utf-8')\n",
    "    print(cmd)\n",
    "    pianobar.stdin.write(cmd)\n",
    "    pianobar.stdin.flush()"
   ]
  },
  {
   "cell_type": "code",
   "execution_count": 21,
   "metadata": {
    "collapsed": false
   },
   "outputs": [
    {
     "name": "stdout",
     "output_type": "stream",
     "text": [
      "bytearray(b's0\\n')\n"
     ]
    }
   ],
   "source": [
    "start_channel(0)"
   ]
  },
  {
   "cell_type": "code",
   "execution_count": null,
   "metadata": {
    "collapsed": true
   },
   "outputs": [],
   "source": []
  }
 ],
 "metadata": {
  "kernelspec": {
   "display_name": "Python 3",
   "language": "python",
   "name": "python3"
  },
  "language_info": {
   "codemirror_mode": {
    "name": "ipython",
    "version": 3
   },
   "file_extension": ".py",
   "mimetype": "text/x-python",
   "name": "python",
   "nbconvert_exporter": "python",
   "pygments_lexer": "ipython3",
   "version": "3.5.1"
  }
 },
 "nbformat": 4,
 "nbformat_minor": 0
}
