{
 "cells": [
  {
   "cell_type": "code",
   "execution_count": 1,
   "metadata": {
    "collapsed": true
   },
   "outputs": [],
   "source": [
    "import re"
   ]
  },
  {
   "cell_type": "markdown",
   "metadata": {},
   "source": [
    "This wonderful thread fixed 2+ hours of mucking around....\n",
    "\n",
    "http://stackoverflow.com/questions/375427/non-blocking-read-on-a-subprocess-pipe-in-python"
   ]
  },
  {
   "cell_type": "code",
   "execution_count": 44,
   "metadata": {
    "collapsed": false
   },
   "outputs": [],
   "source": [
    "import sys\n",
    "from subprocess import PIPE, Popen\n",
    "from threading  import Thread\n",
    "\n",
    "try:\n",
    "    from Queue import Queue, Empty\n",
    "except ImportError:\n",
    "    from queue import Queue, Empty  # python 3.x\n",
    "\n",
    "ON_POSIX = 'posix' in sys.builtin_module_names\n",
    "\n",
    "def enqueue_output(out, queue):\n",
    "    for line in iter(out.readline, b''):\n",
    "        queue.put(line)\n",
    "    out.close()\n",
    "\n",
    "pianobar = Popen(['pianobar'], stdin=PIPE, stdout=PIPE, bufsize=1, close_fds=ON_POSIX)\n",
    "q = Queue()\n",
    "t = Thread(target=enqueue_output, args=(pianobar.stdout, q))\n",
    "t.daemon = True # thread dies with the program\n",
    "t.start()\n",
    "\n",
    "# ... do other things here\n",
    "\n",
    "# read line without blocking\n",
    "#try:  line = q.get_nowait() # or q.get(timeout=.1)\n",
    "#except Empty:\n",
    "#    print('no output yet')\n",
    "#else: # got line\n",
    "#    # ... do something with line"
   ]
  },
  {
   "cell_type": "code",
   "execution_count": 35,
   "metadata": {
    "collapsed": false
   },
   "outputs": [
    {
     "name": "stdout",
     "output_type": "stream",
     "text": [
      "b'Welcome to pianobar (2013.09.15)! Press ? for a list of commands.\\n'\n"
     ]
    }
   ],
   "source": [
    "try:  line = q.get_nowait() # or q.get(timeout=.1)\n",
    "except Empty:\n",
    "    print('Reached the end of current output')\n",
    "else:\n",
    "    print(line)"
   ]
  },
  {
   "cell_type": "code",
   "execution_count": 4,
   "metadata": {
    "collapsed": false
   },
   "outputs": [
    {
     "name": "stdout",
     "output_type": "stream",
     "text": [
      "10\n",
      "Cream Radio\n"
     ]
    }
   ],
   "source": [
    "test = r'\t10) q   Cream Radio'\n",
    "p = re.compile('(\\d{1,})\\)[\\sqS]{5}(.*)')\n",
    "m = p.search(test)\n",
    "(i, n) = m.groups()\n",
    "print(i)\n",
    "print(n)"
   ]
  },
  {
   "cell_type": "code",
   "execution_count": 36,
   "metadata": {
    "collapsed": false
   },
   "outputs": [
    {
     "name": "stdout",
     "output_type": "stream",
     "text": [
      "\u001b[2K(i) Login... Ok.\n",
      "\u001b[2K(i) Get stations... Ok.\n",
      "\u001b[2K\t 0) q   Abba Radio\n",
      "\u001b[2K\t 1) q   Adele Radio\n",
      "\u001b[2K\t 2) q   Aerosmith Radio\n",
      "\u001b[2K\t 3) q   Alternative Pop/Rock\n",
      "\u001b[2K\t 4) q   Billy Joel Radio\n",
      "\u001b[2K\t 5) q   Bond Radio\n",
      "\u001b[2K\t 6) q   Cake Radio\n",
      "\u001b[2K\t 7) q   Carry On Wayward Son Radio\n",
      "\u001b[2K\t 8) q   Classic Rock\n",
      "\u001b[2K\t 9) q   Classical Guitar Radio\n",
      "\u001b[2K\t10) q   Cream Radio\n",
      "\u001b[2K\t11) q S Disney (Children's) Radio\n",
      "\u001b[2K\t12) q S Easy Listening\n",
      "\u001b[2K\t13) q   Faunts Radio\n",
      "\u001b[2K\t14) q   Firework Radio\n",
      "\u001b[2K\t15) q   Flogging Molly Radio\n",
      "\u001b[2K\t16) q S Folk / Country Rock\n",
      "\u001b[2K\t17) q   Frou Frou Radio\n",
      "\u001b[2K\t18) q   Galileo Radio\n",
      "\u001b[2K\t19) q   George Frideric Handel Radio\n",
      "\u001b[2K\t20) q   Grazing In The Grass Radio\n",
      "\u001b[2K\t21) q   Instrumental Folk\n",
      "\u001b[2K\t22) q   Irish/Celtic/Folk\n",
      "\u001b[2K\t23) q   James Blunt Radio\n",
      "\u001b[2K\t24) q   Johann Sebastian Bach Radio\n",
      "\u001b[2K\t25) q   Linkin Park Radio\n",
      "\u001b[2K\t26)   S Metallica Live\n",
      "\u001b[2K\t27) q   Modest Mouse Radio\n",
      "\u001b[2K\t28) q   Muse Radio\n",
      "\u001b[2K\t29) q   Norah Jones Radio\n",
      "\u001b[2K\t30) q   Of Monsters & Men Radio\n",
      "\u001b[2K\t31)   S Pandora Premieres\n",
      "\u001b[2K\t32) q   Pat Benatar Radio\n",
      "\u001b[2K\t33) q   Pop / Rock\n",
      "\u001b[2K\t34)  Q  QuickMix\n",
      "\u001b[2K\t35) q   R.E.M. Radio\n",
      "\u001b[2K\t36) q   Rise Radio\n",
      "\u001b[2K\t37) q   Rodrigo Y Gabriela Radio\n",
      "\u001b[2K\t38) q   Sara Bareilles Radio\n",
      "\u001b[2K\t39) q   Sheryl Crow Radio\n",
      "\u001b[2K\t40) q   Simon & Garfunkel Radio\n",
      "\u001b[2K\t41) q   Sixpence None The Richer Radio\n",
      "\u001b[2K\t42) q   Summer Of '69 Radio\n",
      "\u001b[2K\t43) q   Take Five Radio\n",
      "\u001b[2K\t44) q   The Final Countdown Radio\n",
      "\u001b[2K\t45) q   The Flaming Lips Radio\n",
      "\u001b[2K\t46) q   The Killers Radio\n",
      "\u001b[2K\t47) q   The Planets, Suite For Orchestra & Female Chorus, Op. 32, H. 12\n",
      "\u001b[2K\t48)     Thumbprint Radio\n",
      "\u001b[2K\t49) q   What The Cowgirls Do Radio\n",
      "Reached the end of current output\n",
      "[]\n"
     ]
    }
   ],
   "source": [
    "channels = []\n",
    "while True:\n",
    "    try:  line = q.get_nowait() # or q.get(timeout=.1)\n",
    "    except Empty:\n",
    "        print('Reached the end of current output')\n",
    "        break\n",
    "    else: # got line\n",
    "        test = line.rstrip().decode(\"utf-8\")\n",
    "        m = p.search(test)\n",
    "        print(test)\n",
    "        if m is not None:\n",
    "            (index, name) = p.search(test).groups()\n",
    "            print(\"found: {} {}\".format(name, index))\n",
    "            channels.append(name)\n",
    "            \n",
    "print(channels)"
   ]
  },
  {
   "cell_type": "code",
   "execution_count": 21,
   "metadata": {
    "collapsed": true
   },
   "outputs": [],
   "source": [
    "channel_index = 0\n",
    "level = 'menu'"
   ]
  },
  {
   "cell_type": "code",
   "execution_count": 22,
   "metadata": {
    "collapsed": true
   },
   "outputs": [],
   "source": [
    "def start_channel(channel_index):\n",
    "    cmd = bytearray(repr(channel_index)+'\\n', 'utf-8')\n",
    "    print(cmd)\n",
    "    pianobar.stdin.write(cmd)\n",
    "    pianobar.stdin.flush()"
   ]
  },
  {
   "cell_type": "code",
   "execution_count": 48,
   "metadata": {
    "collapsed": true
   },
   "outputs": [],
   "source": [
    "def next():\n",
    "    cmd = bytearray('n', 'utf-8')\n",
    "    print(cmd)\n",
    "    pianobar.stdin.write(cmd)\n",
    "    pianobar.stdin.flush()"
   ]
  },
  {
   "cell_type": "code",
   "execution_count": 45,
   "metadata": {
    "collapsed": false
   },
   "outputs": [
    {
     "name": "stdout",
     "output_type": "stream",
     "text": [
      "bytearray(b'0\\n')\n"
     ]
    }
   ],
   "source": [
    "start_channel(0)"
   ]
  },
  {
   "cell_type": "code",
   "execution_count": 12,
   "metadata": {
    "collapsed": false
   },
   "outputs": [
    {
     "name": "stdout",
     "output_type": "stream",
     "text": [
      "4\n",
      "3\n",
      "2\n",
      "1\n",
      "0\n",
      "4\n",
      "3\n",
      "2\n",
      "1\n",
      "0\n",
      "4\n",
      "3\n",
      "2\n",
      "1\n",
      "0\n",
      "4\n"
     ]
    }
   ],
   "source": [
    "nch = 5\n",
    "select_channel = 4\n",
    "print(select_channel)\n",
    "for ii in range(15):\n",
    "    select_channel = (select_channel-1) % nch\n",
    "    print(select_channel)"
   ]
  },
  {
   "cell_type": "code",
   "execution_count": 27,
   "metadata": {
    "collapsed": true
   },
   "outputs": [],
   "source": [
    "line = q.get_nowait()"
   ]
  },
  {
   "cell_type": "code",
   "execution_count": 28,
   "metadata": {
    "collapsed": false
   },
   "outputs": [
    {
     "data": {
      "text/plain": [
       "b'\\x1b[2K|>  \"(I Can\\'t Get No) Satisfaction\" by \"The Rolling Stones\" on \"Big Hits (High Tide And Green Grass)\"\\n'"
      ]
     },
     "execution_count": 28,
     "metadata": {},
     "output_type": "execute_result"
    }
   ],
   "source": [
    "line"
   ]
  },
  {
   "cell_type": "code",
   "execution_count": 28,
   "metadata": {
    "collapsed": false
   },
   "outputs": [
    {
     "name": "stdout",
     "output_type": "stream",
     "text": [
      "b'\\x1b[2K|>  \"Ramble On (Rough Mix With Vocal)\" by \"Led Zeppelin\" on \"Led Zeppelin II (Deluxe Edition)\"\\n'\n"
     ]
    }
   ],
   "source": [
    "line = q.get_nowait()\n",
    "print(line)"
   ]
  },
  {
   "cell_type": "code",
   "execution_count": 31,
   "metadata": {
    "collapsed": false
   },
   "outputs": [
    {
     "name": "stdout",
     "output_type": "stream",
     "text": [
      "Ramble On (Rough Mix With Vocal)\n",
      "Led Zeppelin\n",
      "Led Zeppelin II (Deluxe Edition)\n"
     ]
    }
   ],
   "source": [
    "p = re.compile('\"(.*)\" by \"(.*)\" on \"(.*)\"')\n",
    "m = p.search(line.decode('utf-8'))\n",
    "(song, band, album) = m.groups()\n",
    "print(song)\n",
    "print(band)\n",
    "print(album)"
   ]
  },
  {
   "cell_type": "code",
   "execution_count": 41,
   "metadata": {
    "collapsed": true
   },
   "outputs": [],
   "source": [
    "now_playing = ''\n",
    "def update_now_playing():\n",
    "    p = re.compile('\"(.*)\" by \"(.*)\" on \"(.*)\"')\n",
    "    while True:\n",
    "        try:  line = q.get_nowait() # or q.get(timeout=.1)\n",
    "        except Empty:\n",
    "            print('Finished Searching for song.')\n",
    "            break\n",
    "        else: # got line\n",
    "            test = line.rstrip().decode(\"utf-8\")\n",
    "            print(test)\n",
    "            m = p.search(test)\n",
    "            #print(test)\n",
    "            if m is not None:\n",
    "                (song, band, album) = p.search(test).groups()\n",
    "                print(\"found: {} by {} on {}\".format(song, band, album))\n",
    "                now_playing = song\n",
    "                return True\n",
    "    return False\n"
   ]
  },
  {
   "cell_type": "code",
   "execution_count": 49,
   "metadata": {
    "collapsed": false
   },
   "outputs": [
    {
     "name": "stdout",
     "output_type": "stream",
     "text": [
      "bytearray(b'n')\n"
     ]
    }
   ],
   "source": [
    "next()"
   ]
  },
  {
   "cell_type": "code",
   "execution_count": 50,
   "metadata": {
    "collapsed": false
   },
   "outputs": [
    {
     "name": "stdout",
     "output_type": "stream",
     "text": [
      "\u001b[2K#   -03:29/03:30\r",
      "\u001b[2K#   -03:28/03:30\r",
      "\u001b[2K#   -03:27/03:30\r",
      "\u001b[2K#   -03:26/03:30\r",
      "\u001b[2K#   -03:25/03:30\r",
      "\u001b[2K#   -03:24/03:30\r",
      "\u001b[2K#   -03:23/03:30\r",
      "\u001b[2K#   -03:22/03:30\r",
      "\u001b[2K#   -03:21/03:30\r",
      "\u001b[2K#   -03:20/03:30\r",
      "\u001b[2K#   -03:19/03:30\r",
      "\u001b[2K#   -03:18/03:30\r",
      "\u001b[2K#   -03:17/03:30\r",
      "\u001b[2K#   -03:16/03:30\r",
      "\u001b[2K#   -03:15/03:30\r",
      "\u001b[2K#   -03:14/03:30\r",
      "\u001b[2K#   -03:13/03:30\r",
      "\u001b[2K#   -03:12/03:30\r",
      "\u001b[2K#   -03:11/03:30\r",
      "\u001b[2K#   -03:10/03:30\r",
      "\u001b[2K#   -03:09/03:30\r",
      "\u001b[2K#   -03:08/03:30\r",
      "\u001b[2K#   -03:07/03:30\r",
      "\u001b[2K#   -03:06/03:30\r",
      "\u001b[2K#   -03:05/03:30\r",
      "\u001b[2K#   -03:04/03:30\r",
      "\u001b[2K#   -03:03/03:30\r",
      "\u001b[2K#   -03:02/03:30\r",
      "\u001b[2K#   -03:01/03:30\r",
      "\u001b[2K#   -03:00/03:30\r",
      "\u001b[2K#   -02:59/03:30\r",
      "\u001b[2K#   -02:58/03:30\r",
      "\u001b[2K#   -02:57/03:30\r",
      "\u001b[2K#   -02:56/03:30\r",
      "\u001b[2K#   -02:55/03:30\r",
      "\u001b[2K#   -02:54/03:30\r",
      "\u001b[2K#   -02:53/03:30\r",
      "\u001b[2K#   -02:52/03:30\r",
      "\u001b[2K#   -02:51/03:30\r",
      "\u001b[2K#   -02:50/03:30\r",
      "\u001b[2K#   -02:49/03:30\r",
      "\u001b[2K#   -02:48/03:30\r",
      "\u001b[2K#   -02:47/03:30\r",
      "\u001b[2K#   -02:46/03:30\r",
      "\u001b[2K#   -02:45/03:30\r",
      "\u001b[2K#   -02:44/03:30\r",
      "\u001b[2K#   -02:43/03:30\r",
      "\u001b[2K#   -02:42/03:30\r",
      "\u001b[2K#   -02:41/03:30\r",
      "\u001b[2K#   -02:40/03:30\r",
      "\u001b[2K#   -02:39/03:30\r",
      "\u001b[2K#   -02:38/03:30\r",
      "\u001b[2K#   -02:37/03:30\r",
      "\u001b[2K#   -02:36/03:30\r",
      "\u001b[2K#   -02:35/03:30\r",
      "\u001b[2K#   -02:34/03:30\r",
      "\u001b[2K#   -02:33/03:30\r",
      "\u001b[2K#   -02:32/03:30\r",
      "\u001b[2K#   -02:31/03:30\r",
      "\u001b[2K#   -02:30/03:30\r",
      "\u001b[2K#   -02:29/03:30\r",
      "\u001b[2K#   -02:28/03:30\r",
      "\u001b[2K#   -02:27/03:30\r",
      "\u001b[2K#   -02:26/03:30\r",
      "\u001b[2K#   -02:25/03:30\r",
      "\u001b[2K#   -02:24/03:30\r",
      "\u001b[2K#   -02:23/03:30\r",
      "\u001b[2K#   -02:22/03:30\r",
      "\u001b[2K#   -02:21/03:30\r",
      "\u001b[2K#   -02:20/03:30\r",
      "\u001b[2K#   -02:19/03:30\r",
      "\u001b[2K#   -02:18/03:30\r",
      "\u001b[2K#   -02:17/03:30\r",
      "\u001b[2K#   -02:16/03:30\r",
      "\u001b[2K#   -02:15/03:30\r",
      "\u001b[2K#   -02:14/03:30\r",
      "\u001b[2K#   -02:13/03:30\r",
      "\u001b[2K#   -02:12/03:30\r",
      "\u001b[2K#   -02:11/03:30\r",
      "\u001b[2K#   -02:10/03:30\r",
      "\u001b[2K#   -02:09/03:30\r",
      "\u001b[2K#   -02:08/03:30\r",
      "\u001b[2K#   -02:07/03:30\r",
      "\u001b[2K#   -02:06/03:30\r",
      "\u001b[2K#   -02:05/03:30\r",
      "\u001b[2K#   -02:04/03:30\r",
      "\u001b[2K#   -02:03/03:30\r",
      "\u001b[2K#   -02:02/03:30\r",
      "\u001b[2K#   -02:01/03:30\r",
      "\u001b[2K#   -02:00/03:30\r",
      "\u001b[2K#   -01:59/03:30\r",
      "\u001b[2K#   -01:58/03:30\r",
      "\u001b[2K#   -01:57/03:30\r",
      "\u001b[2K#   -01:56/03:30\r",
      "\u001b[2K#   -01:55/03:30\r",
      "\u001b[2K#   -01:54/03:30\r",
      "\u001b[2K#   -01:54/03:30\r",
      "\u001b[2K#   -01:53/03:30\r",
      "\u001b[2K|>  \"You're So Vain\" by \"Carly Simon\" on \"No Secrets\"\n",
      "found: You're So Vain by Carly Simon on No Secrets\n"
     ]
    },
    {
     "data": {
      "text/plain": [
       "True"
      ]
     },
     "execution_count": 50,
     "metadata": {},
     "output_type": "execute_result"
    }
   ],
   "source": [
    "update_now_playing()"
   ]
  },
  {
   "cell_type": "code",
   "execution_count": 12,
   "metadata": {
    "collapsed": false
   },
   "outputs": [
    {
     "data": {
      "text/plain": [
       "''"
      ]
     },
     "execution_count": 12,
     "metadata": {},
     "output_type": "execute_result"
    }
   ],
   "source": [
    "now_playing"
   ]
  },
  {
   "cell_type": "code",
   "execution_count": 16,
   "metadata": {
    "collapsed": false
   },
   "outputs": [
    {
     "data": {
      "text/plain": [
       "b'\\x1b[2K\\t49) q   What The Cowgirls Do Radio\\n'"
      ]
     },
     "execution_count": 16,
     "metadata": {},
     "output_type": "execute_result"
    }
   ],
   "source": [
    "line"
   ]
  },
  {
   "cell_type": "code",
   "execution_count": 51,
   "metadata": {
    "collapsed": true
   },
   "outputs": [],
   "source": [
    "pianobar.terminate()"
   ]
  },
  {
   "cell_type": "code",
   "execution_count": null,
   "metadata": {
    "collapsed": true
   },
   "outputs": [],
   "source": []
  }
 ],
 "metadata": {
  "kernelspec": {
   "display_name": "Python 3",
   "language": "python",
   "name": "python3"
  },
  "language_info": {
   "codemirror_mode": {
    "name": "ipython",
    "version": 3
   },
   "file_extension": ".py",
   "mimetype": "text/x-python",
   "name": "python",
   "nbconvert_exporter": "python",
   "pygments_lexer": "ipython3",
   "version": "3.5.1"
  }
 },
 "nbformat": 4,
 "nbformat_minor": 0
}
